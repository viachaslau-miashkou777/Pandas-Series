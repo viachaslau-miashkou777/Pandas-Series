{
 "cells": [
  {
   "cell_type": "markdown",
   "id": "7b59124f",
   "metadata": {},
   "source": [
    "<h1 style=\"margin-bottom: 25px;font-size:3.5rem;color:#4c76ce;text-align:center;\">\n",
    "    Getting Started with Pandas</h1>\n",
    "\n",
    "<h2 style=\"margin-bottom: 25px;font-size:2.5rem;text-align:center;\">\n",
    "    Part I - Data Structures: Pandas Series</h2>\n",
    "    \n",
    "<img src=\"https://raw.githubusercontent.com/lajmcourses/Images/master/pandas.png\"\n",
    "     style=\"position:absolute;top:5px;left:25px;height:150px;width:auto;margin-bottom:25px;\">"
   ]
  },
  {
   "cell_type": "markdown",
   "id": "392baba7",
   "metadata": {},
   "source": [
    "## What is Pandas?"
   ]
  },
  {
   "cell_type": "markdown",
   "id": "23baa1b1",
   "metadata": {},
   "source": [
    "Pandas is a data science library used for data manipulation, analysis and cleaning. It is one of the most important Python libraries for Data Analysis. Pandas is built on top of NumPy."
   ]
  },
  {
   "cell_type": "code",
   "execution_count": 12,
   "id": "da327a81",
   "metadata": {},
   "outputs": [],
   "source": [
    "\n",
    "# import numpy as np\n",
    "# import pandas as pd\n",
    "# import matplotlib.pyplot as plt\n",
    "\n",
    "# %matplotlib inline\n",
    "# # Getting version of Pandas\n",
    "# print(\"My Pandas version:\", pd.__version__)"
   ]
  },
  {
   "cell_type": "markdown",
   "id": "b3dab66f",
   "metadata": {},
   "source": [
    "## Key Data Structures in Pandas\n",
    "\n",
    "A **series** is a one-dimensional labeled array capable of holding data of any type (integer, string, float, etc.). The axis labels are called index. Pandas series is similar to a column in Excel spredsheet.\n",
    "\n",
    "\n",
    "A **dataframe** is a most widely used data structure in Pandas. It is used to represent tabular data, and it is similar to a table in Excel."
   ]
  },
  {
   "cell_type": "markdown",
   "id": "fbd35b17",
   "metadata": {},
   "source": [
    "## Pandas Series\n",
    "\n",
    "A **Series** is a one-dimensional array-like object containing a sequence of values and an associated array of data labels, called **index**."
   ]
  },
  {
   "cell_type": "code",
   "execution_count": 13,
   "id": "712be76a",
   "metadata": {},
   "outputs": [],
   "source": [
    "# Series\n",
    "\n",
    "# pd_series = pd.Series([4, -1, 0, 2, -1, -4, -3, -3, -2, -3])\n",
    "# print(\"\\nInitial Pandas series:\\n\", pd_series)\n",
    "\n",
    "# # Series values\n",
    "# print(\"\\nSeries values:\", pd_series.values)\n",
    "\n",
    "# # Series name\n",
    "# print(\"\\nInitial series name:\\n\", pd_series.name)\n",
    "# pd_series.name = \"Temperature Observations\"\n",
    "# print(\"\\nUpdated series name:\\n\", pd_series.name)\n",
    "\n",
    "# # Series index\n",
    "# print(\"\\nDefault Series Index: \", pd_series.index)\n",
    "# dts = pd.date_range(\"2022-01-07\", periods=len(pd_series), freq=\"D\")\n",
    "# pd_series.index = dts\n",
    "# print(\"\\nUpdated eries Index: \", pd_series.index)\n",
    "\n",
    "# # Updated Series\n",
    "# print(\"\\nUpdates Pandas series:\\n\", pd_series)\n"
   ]
  },
  {
   "cell_type": "markdown",
   "id": "26a093b6",
   "metadata": {},
   "source": [
    "## Exercise 1: Creating a Series from a Dictionary\n",
    "\n",
    "In the example above, we have seen that the simplest Pandas Series is created from a list. It is also possible to create the Series from a dictionary.\n",
    "\n",
    "Try to create a series from the dictionary given below:\n",
    "\n",
    "population = {\n",
    "    \"Estonia\": \"1328000\",\n",
    "    \"Latvia\": \"1893000\",\n",
    "    \"Lithuania\": \"2810000\"\n",
    "}\n",
    "\n",
    "a) Answer the questions:\n",
    "\n",
    "**What is the index of the newly created series?**\n",
    "\n",
    "**What are the values of the newly created series?**\n",
    "\n",
    "b) Set series name to *Baltic States Population* and print the series.\n"
   ]
  },
  {
   "cell_type": "code",
   "execution_count": 39,
   "id": "7b3734b0",
   "metadata": {},
   "outputs": [
    {
     "name": "stdout",
     "output_type": "stream",
     "text": [
      "Index of newly created series: Index(['Estonia:', 'Latvia:', 'Lithuania:'], dtype='object')\n",
      "Values of the newly created series: ['1328000' '1893000' '2810000']\n",
      "Balic States Population :\n",
      " Estonia:      1328000\n",
      "Latvia:       1893000\n",
      "Lithuania:    2810000\n",
      "dtype: object\n"
     ]
    }
   ],
   "source": [
    "population = pd.Series({ \"Estonia:\": \"1328000\", \"Latvia:\": \"1893000\", \"Lithuania:\": \"2810000\" })\n",
    "print(\"Index of newly created series:\", population.index)\n",
    "print(\"Values of the newly created series:\", population.values)\n",
    "baltic_state_population = population\n",
    "print(\"Balic States Population :\\n\", baltic_state_population)"
   ]
  },
  {
   "cell_type": "markdown",
   "id": "f2e5d592",
   "metadata": {},
   "source": [
    "## Solution to Exercise 1:"
   ]
  },
  {
   "cell_type": "code",
   "execution_count": 14,
   "id": "16c3d8e6",
   "metadata": {},
   "outputs": [],
   "source": [
    "# import numpy as np\n",
    "# import pandas as pd\n",
    "# import matplotlib.pyplot as plt\n",
    "\n",
    "# %matplotlib inline\n",
    "\n",
    "# population = pd.Series({ \"Estonia\": \"1328000\", \"Latvia\": \"1893000\", \"Lithuania\": \"2810000\" })\n",
    "# print(\"\\nInitial Pandas series:\", population)\n",
    "# # Series values\n",
    "# print(\"\\nSeries values:\", population.values)\n",
    "# # Series index\n",
    "# print(\"\\nSeries Index: \", population.index)\n",
    "\n",
    "\n",
    "\n"
   ]
  },
  {
   "cell_type": "markdown",
   "id": "9d79d074",
   "metadata": {},
   "source": [
    "## Accessing Elements of a Series"
   ]
  },
  {
   "cell_type": "code",
   "execution_count": 15,
   "id": "b23afdf2",
   "metadata": {},
   "outputs": [],
   "source": [
    "# import pandas as pd\n",
    "\n",
    "# # # Create series\n",
    "# # series_data = [4, -1, 0, 2, -1, -4, -3, -3, -2, -3]\n",
    "# # series_index = pd.date_range(\"2022-01-07\", periods=len(series_data), freq=\"D\")\n",
    "# # pd_series = pd.Series(data=series_data, index=series_index, dtype=float, name=\"Temperature Observations\")\n",
    "\n",
    "# print(\"\\nTemperature Observation Series:\\n\", pd_series)\n",
    "\n",
    "# # Accessing a single element\n",
    "# print(\"\\nAccessing a single element by numerical index:\", pd_series[0])\n",
    "\n",
    "# # Accessing element using iloc\n",
    "# print(\"\\nAccessing an element using iloc:\", pd_series.iloc[0])\n",
    "\n",
    "# # Accessing an element using index\n",
    "# print(\"\\nAccessing an element by index:\", pd_series[\"2022-01-07\"])\n",
    "\n",
    "# # Accessing an element using loc\n",
    "# print(\"\\nAccessing an element using loc:\", pd_series.loc[\"2022-01-07\"])"
   ]
  },
  {
   "cell_type": "markdown",
   "id": "b19bfe9f",
   "metadata": {},
   "source": [
    "<h2 style=\"color:tomato;\">Pay Attention:</h2>\n",
    "\n",
    "It is recommended to use **loc** and **iloc** when accessing Pandas series (and dataframe) data.\n",
    "\n",
    "**loc** - label based position\n",
    "\n",
    "**iloc** - integer based position"
   ]
  },
  {
   "cell_type": "markdown",
   "id": "2202e71f",
   "metadata": {},
   "source": [
    "## Accessing Multiple Elements of a Series"
   ]
  },
  {
   "cell_type": "code",
   "execution_count": 16,
   "id": "de3fb57a",
   "metadata": {},
   "outputs": [],
   "source": [
    "# import pandas as pd\n",
    "\n",
    "# # Create series\n",
    "# series_data = [4, -1, 0, 2, -1, -4, -3, -3, -2, -3]\n",
    "# series_index = pd.date_range(\"2022-01-07\", periods=len(series_data), freq=\"D\")\n",
    "# pd_series = pd.Series(data=series_data, index=series_index, dtype=float, name=\"Temperature Observations\")\n",
    "\n",
    "# print(\"\\nTemperature Observation Series:\\n\", pd_series)\n",
    "\n",
    "# # Accessing multiple elements\n",
    "# print(\"Accessing multiple Series elements:\")\n",
    "# print(pd_series[[0, 2, 4]])\n",
    "\n",
    "# # Accessing multiple elements using iloc\n",
    "# print(\"\\nAccessing multiple Series elements with iloc:\")\n",
    "# print(pd_series.iloc[[0, 2, 4]])\n",
    "\n",
    "# # Accessing multiple elements by index\n",
    "# print(\"\\nAccessing multiple Series elements:\")\n",
    "# print(pd_series[[\"2022-01-07\", \"2022-01-09\", \"2022-01-11\"]])\n",
    "\n",
    "# # Accessing multiple elements by index with loc\n",
    "# print(\"\\nAccessing multiple Series elements:\")\n",
    "# print(pd_series.loc[[\"2022-01-07\", \"2022-01-09\", \"2022-01-11\"]])"
   ]
  },
  {
   "cell_type": "markdown",
   "id": "1313c7fe",
   "metadata": {},
   "source": [
    "## Filtering Elements of a Series"
   ]
  },
  {
   "cell_type": "code",
   "execution_count": 35,
   "id": "8a323ad1",
   "metadata": {},
   "outputs": [],
   "source": [
    "# import pandas as pd\n",
    "\n",
    "# # Create series\n",
    "# series_data = [4, -1, 0, 2, -1, -4, -3, -3, -2, -3]\n",
    "# series_index = pd.date_range(\"2022-01-07\", periods=len(series_data), freq=\"D\")\n",
    "# pd_series = pd.Series(data=series_data, index=series_index, dtype=float, name=\"Temperature Observations\")\n",
    "\n",
    "# print(\"\\nTemperature Observation Series:\\n\", pd_series)\n",
    "\n",
    "# # Selecting nonnegative elements\n",
    "# print(\"\\nNonnegative temperatures:\\n\", pd_series[pd_series >= 0])\n",
    "\n",
    "\n",
    "# # Selecting elements with date > 2022-01-10\n",
    "# print(\"\\nTemperatures after 20022-01-10:\\n\", pd_series[pd_series.index > \"2022-01-10\"])\n"
   ]
  },
  {
   "cell_type": "markdown",
   "id": "336bc43f",
   "metadata": {},
   "source": [
    "## Exercise 2: G7 Countries I"
   ]
  },
  {
   "cell_type": "markdown",
   "id": "c9a2a111",
   "metadata": {},
   "source": [
    "a) Create a series containing G7 countries population in millions. Save the newly created series as *g7_population*\n",
    "\n",
    "b) Add the series name: *G7 Countries Population*\n",
    "\n",
    "c) Print out the population of Italy.\n",
    "\n",
    "d) Print out the population of France and Canada. Use *loc*.\n",
    "\n",
    "e) Select countries with the population greater than 100 mln.Use conditional filtering to solve the problem.\n",
    "\n",
    "f) Select G7 countries with population higher than 50 millions and less than 100 millions.\n",
    "Use conditional filtering to solve the problem.\n"
   ]
  },
  {
   "cell_type": "markdown",
   "id": "8a5def27",
   "metadata": {},
   "source": [
    "## Solution to Exercise 2:"
   ]
  },
  {
   "cell_type": "code",
   "execution_count": 2,
   "id": "c2c33474",
   "metadata": {},
   "outputs": [
    {
     "name": "stdout",
     "output_type": "stream",
     "text": [
      "G7 Countries Population:\n",
      " Canada:             38.25\n",
      "France:             67.75\n",
      "Germany:            83.20\n",
      "Italy:              59.11\n",
      "Japan:             125.70\n",
      "United Kingdom:     67.33\n",
      "United States:     331.90\n",
      "dtype: float64\n",
      "\n",
      "The population of \n",
      " Italy:    59.11\n",
      "dtype: float64\n",
      "France:    67.75\n",
      "Canada:    38.25\n",
      "dtype: float64\n",
      "\n",
      "G7 countries with the population greater than 100 mln:\n",
      " Japan:            125.7\n",
      "United States:    331.9\n",
      "dtype: float64\n",
      "\n",
      "G7 countries with population higher than 50 million and less than 100 million:\n",
      " France:            67.75\n",
      "Germany:           83.20\n",
      "Italy:             59.11\n",
      "United Kingdom:    67.33\n",
      "dtype: float64\n"
     ]
    }
   ],
   "source": [
    "# import numpy as np\n",
    "import pandas as pd\n",
    "# import matplotlib.pyplot as plt\n",
    "\n",
    "# %matplotlib inline\n",
    "\n",
    "g7_population = ({\n",
    "    \"Canada:\": 38.25,\n",
    "    \"France:\": 67.75,\n",
    "    \"Germany:\": 83.2,\n",
    "    \"Italy:\": 59.11,\n",
    "    \"Japan:\": 125.70,\n",
    "    \"United Kingdom:\": 67.33,\n",
    "    \"United States:\": 331.90\n",
    "})\n",
    "g7_population = pd.Series(g7_population)\n",
    "print(\"G7 Countries Population:\\n\", g7_population)\n",
    "print()\n",
    "print(\"The population of \\n\", g7_population[[\"Italy:\"]])\n",
    "print(g7_population.loc[[\"France:\", \"Canada:\"]])\n",
    "print()\n",
    "print(\"G7 countries with the population greater than 100 mln:\\n\", g7_population[g7_population.values > 100])\n",
    "print()\n",
    "print(\"G7 countries with population higher than 50 million and less than 100 million:\\n\",\n",
    "      g7_population[(g7_population > 50) & (g7_population < 100)])\n"
   ]
  },
  {
   "cell_type": "markdown",
   "id": "8d4b2341",
   "metadata": {},
   "source": [
    "## Exercise 3: G7 Countries II\n",
    "\n",
    "1. Verify with the code that the data type returned by executing the expression below returns the Pandas series.\n",
    "\n",
    "```\n",
    "g7_population > 100\n",
    "\n",
    "```\n",
    "2. What type of values this series contain? What is the interpretation of these values?\n",
    "\n",
    "3. Suppose that we have a country in G7 dataset with the population of exactly 100 millions. What value would we get for such a country?"
   ]
  },
  {
   "cell_type": "markdown",
   "id": "4195c662",
   "metadata": {},
   "source": [
    "## Solution to Exericise 3:"
   ]
  },
  {
   "cell_type": "code",
   "execution_count": 45,
   "id": "9b11211a",
   "metadata": {},
   "outputs": [
    {
     "name": "stdout",
     "output_type": "stream",
     "text": [
      "<class 'pandas.core.series.Series'>\n"
     ]
    }
   ],
   "source": [
    "print(type(g7_population > 100))\n"
   ]
  },
  {
   "cell_type": "markdown",
   "id": "f61b2322",
   "metadata": {},
   "source": [
    "This series contain Boolean type of values, that means \n",
    "that when the country has a population more than 100 million the Series returns True, in other cases it returns False.\n",
    "The last concerns the case when \"we have a country in G7 dataset with the population of exactly 100 millions.\""
   ]
  },
  {
   "cell_type": "markdown",
   "id": "ef6c851d",
   "metadata": {},
   "source": [
    "## Series Data Manipulation"
   ]
  },
  {
   "cell_type": "code",
   "execution_count": 39,
   "id": "e29959bd",
   "metadata": {},
   "outputs": [],
   "source": [
    "# # Reverting the Series\n",
    "\n",
    "# x = pd.Series([1, 2, 3, 4, 5], index=[\"first\", \"second\", \"third\", \"fourth\", \"fifth\"])\n",
    "# print(\"\\nInitial Series x:\\n\", x)\n",
    "\n",
    "# print(\"\\nReverted Series X:\\n\", x[::-1])\n"
   ]
  },
  {
   "cell_type": "code",
   "execution_count": 40,
   "id": "6a57cd9a",
   "metadata": {},
   "outputs": [],
   "source": [
    "# # Sorting\n",
    "\n",
    "# unsorted_series = pd.Series([100, 12, 103, 56, 98, 25, 95])\n",
    "# print(\"\\nUnsorted Series:\\n\", unsorted_series)\n",
    "\n",
    "# sorted_series = unsorted_series.sort_values()\n",
    "# print(\"\\nSorted Series:\\n\", sorted_series)"
   ]
  },
  {
   "cell_type": "markdown",
   "id": "424a639e",
   "metadata": {},
   "source": [
    "## Series Summary Statistisc"
   ]
  },
  {
   "cell_type": "code",
   "execution_count": 4,
   "id": "c6911d46",
   "metadata": {},
   "outputs": [],
   "source": [
    "# # Create series\n",
    "# series_data = [4, -1, 0, 2, -1, -4, -3, -3, -2, -3]\n",
    "# series_index = pd.date_range(\"2022-01-07\", periods=len(series_data), freq=\"D\")\n",
    "# pd_series = pd.Series(data=series_data, index=series_index, dtype=float, name=\"Temperature Observations\")\n",
    "\n",
    "# print(\"\\nTemperature Observation Series:\\n\", pd_series)\n",
    "\n",
    "\n",
    "# # Average temperature\n",
    "# t_avg = pd_series.mean()\n",
    "# print(\"\\nAverage temperature:\", t_avg)\n",
    "\n",
    "# # # Min temperature\n",
    "# # t_min = pd_series.min()\n",
    "# # print(\"\\nMin. temperature:\", t_min)\n",
    "\n",
    "# # # Max temperature\n",
    "# # t_max = pd_series.max()\n",
    "# # print(\"\\nMax temperature:\", t_max)\n",
    "\n",
    "# # # Sum of all temperatures\n",
    "# # t_sum = pd_series.sum()\n",
    "# # print(\"\\nSum of temperatures:\", t_sum)\n",
    "\n",
    "# # # Temperature variance\n",
    "# # t_var = pd_series.var()\n",
    "# # print(\"\\nTemperature variance:\", t_var)\n",
    "\n",
    "# # # Temperature standard deviation\n",
    "# # t_std = pd_series.std()\n",
    "# # print(\"\\nTemperature standard deviation:\", t_std)"
   ]
  },
  {
   "cell_type": "markdown",
   "id": "b22048da",
   "metadata": {},
   "source": [
    "## Exercise 4:\n",
    "\n",
    "1. Write a Python program to calculate sample mean. Calculate the mean for the **Temperatures** data set given above. Compare the result with the result you got from Padas.\n",
    "\n",
    "**Sample mean calculation formula**\n",
    "\n",
    "$$\\overline{x} = \\frac{1}{n} \\times \\sum^{n}_{i=1} x_i$$\n",
    "\n",
    "\n",
    "\n",
    "2. Write a Python program to calculate the variance. Calculate the variance for the **Temperatures** data set given above. Compare the result with the result you got from Pandas.\n",
    "\n",
    "**Sample variance calculation formula:**\n",
    "\n",
    "$$s^2 = \\frac{1}{n-1} \\times \\sum^{n}_{i=1} (x_i - \\overline{x})$$"
   ]
  },
  {
   "cell_type": "markdown",
   "id": "54e35d9b",
   "metadata": {},
   "source": [
    "## there is a typo in the second formula as the expression under the sum sign must be squared !"
   ]
  },
  {
   "cell_type": "markdown",
   "id": "0e4199d6",
   "metadata": {},
   "source": [
    "## Solution to Exercise 4:"
   ]
  },
  {
   "cell_type": "markdown",
   "id": "a7cc23e6",
   "metadata": {},
   "source": [
    "## 1."
   ]
  },
  {
   "cell_type": "code",
   "execution_count": 7,
   "id": "2546936c",
   "metadata": {},
   "outputs": [
    {
     "name": "stdout",
     "output_type": "stream",
     "text": [
      "Sample mean is:  -1.1\n"
     ]
    }
   ],
   "source": [
    "def sample_mean(temperature_data, number_of_observations):\n",
    "    return sum(temperature_data)/number_of_observations\n",
    "\n",
    "if __name__=='__main__':\n",
    "    xi = [4, -1, 0, 2, -1, -4, -3, -3, -2, -3]\n",
    "    n = len(xi)\n",
    "    \n",
    "sm = sample_mean(xi, n)\n",
    "print(\"Sample mean is: \", sm)"
   ]
  },
  {
   "cell_type": "markdown",
   "id": "50c16e23",
   "metadata": {},
   "source": [
    "## 2."
   ]
  },
  {
   "cell_type": "code",
   "execution_count": 21,
   "id": "8cd2e488",
   "metadata": {},
   "outputs": [
    {
     "name": "stdout",
     "output_type": "stream",
     "text": [
      "Sample variance:  56.900000000000006\n"
     ]
    }
   ],
   "source": [
    "def sample_variance(temperature_data, sample_mean):\n",
    "    return sum((x - sample_mean) ** 2 for x in temperature_data)\n",
    "\n",
    "sv = sample_variance(xi, sm)\n",
    "print(\"Sample variance: \", sv)\n"
   ]
  },
  {
   "cell_type": "markdown",
   "id": "6964e175",
   "metadata": {},
   "source": [
    "## Plotting a Series with Matplotlib"
   ]
  },
  {
   "cell_type": "markdown",
   "id": "60117dc0",
   "metadata": {},
   "source": [
    "### Plot Example: Line Plot: Stock Price Fluctuations"
   ]
  },
  {
   "cell_type": "code",
   "execution_count": 36,
   "id": "c589fac9",
   "metadata": {},
   "outputs": [],
   "source": [
    "# import numpy as np\n",
    "# from matplotlib import pyplot as plt\n",
    "\n",
    "# # Let's generate a time series\n",
    "\n",
    "# ndays = 365\n",
    "\n",
    "# stock_price_fluctuations = 0.05 * pd.Series(np.random.randn(ndays),\n",
    "#                index=pd.date_range(\"2017-01-01\", periods=ndays),\n",
    "#                name=\"Stock Price Fluctuations\")\n",
    "\n",
    "# print(\"Stock Price Fluctuations\", stock_price_fluctuations)\n",
    "\n",
    "# # y_axis = pd.Series(np.zeros(ndays),\n",
    "# #                index=pd.date_range(\"2017-01-01\", periods=ndays),\n",
    "# #                )\n",
    "\n",
    "\n",
    "\n",
    "# # # Plot\n",
    "# plt.figure(figsize=(10, 5))\n",
    "# plt.plot(stock_price_fluctuations)\n",
    "\n",
    "# # # Add horizontal X-axis\n",
    "# plt.axhline(y=0, linewidth=1, label= 'y=0', color=\"green\")\n",
    "\n",
    "# # # Add plot title\n",
    "# plt.title(\"\\nStock Price Fluctuations Data\\n\", fontsize=18)\n",
    "\n",
    "# # # Update ticks fontsize\n",
    "# plt.xticks(fontsize=10)\n",
    "# plt.yticks(fontsize=10)\n",
    "\n",
    "# # # Add plot grid\n",
    "# # plt.grid()\n",
    "\n",
    "# # # Display plot\n",
    "# plt.show()"
   ]
  },
  {
   "cell_type": "markdown",
   "id": "7e591bb4",
   "metadata": {},
   "source": [
    "### Plot Example: Bar Plot: G7 Countries Population"
   ]
  },
  {
   "cell_type": "code",
   "execution_count": 37,
   "id": "4e06c71d",
   "metadata": {},
   "outputs": [],
   "source": [
    "# import pandas as pd\n",
    "# import numpy as np\n",
    "# import matplotlib as mpl\n",
    "# import matplotlib.pyplot as plt\n",
    "\n",
    "# # Create G7 Population Series\n",
    "# g7_data = {\n",
    "#     \"Canada\": 38.25,\n",
    "#     \"France\": 67.75,\n",
    "#     \"Germany\": 83.2,\n",
    "#     \"Italy\": 59.11,\n",
    "#     \"Japan\": 125.70,\n",
    "#     \"United Kingdom\": 67.33,\n",
    "#     \"United States\": 331.90\n",
    "# }\n",
    "\n",
    "# g7_population = pd.Series(g7_data, name=\"G7 Population (mln.)\")\n",
    "\n",
    "# print(\"\\nPloting data:\\n\")\n",
    "# print(g7_population)\n",
    "\n",
    "# # palette = np.round(np.linspace(0, 1, num=10), 1)\n",
    "# colors = mpl.colormaps[\"Accent\"].colors\n",
    "\n",
    "# # g7_population = pd.Series(g7_data, name=\"G7 Population (mln.)\")\n",
    "\n",
    "# # print(\"\\nPlotting Data:\\n\")\n",
    "# # print(g7_population)\n",
    "\n",
    "# # # Make the plot\n",
    "# plt.figure(figsize=(10, 5))\n",
    "# p = plt.bar(g7_population.index, g7_population.values, color=colors)\n",
    "\n",
    "# # # Add plot title\n",
    "# plt.title(\"\\nG7 Population, mln.\\n\", fontsize=22)\n",
    "\n",
    "# # # Set y-axis label\n",
    "# plt.ylabel(\"Population, mln.\\n\", fontsize=14)\n",
    "\n",
    "# # # Adjust x-axis ticks\n",
    "# plt.xticks(fontsize=12, rotation=30)\n",
    "\n",
    "# # Adding bar labels\n",
    "# # for k, v in g7_data.items():\n",
    "# #     p = plt.bar(k, v, label=k)\n",
    "# plt.bar_label(p, label_type=\"edge\", padding=5)\n",
    "    \n",
    "# # plt.ylim(0, 400)\n",
    "\n",
    "# # # Display plot\n",
    "# plt.show()"
   ]
  },
  {
   "cell_type": "markdown",
   "id": "89840593",
   "metadata": {},
   "source": [
    "### Plot Example: Pie Chart: G7 Population Distribution"
   ]
  },
  {
   "cell_type": "code",
   "execution_count": 38,
   "id": "7be52a75",
   "metadata": {},
   "outputs": [],
   "source": [
    "# # Pie Chart: G7 Population Distribution\n",
    "\n",
    "# import pandas as pd\n",
    "# import numpy as np\n",
    "# import matplotlib as mpl\n",
    "# import matplotlib.pyplot as plt\n",
    "\n",
    "# # Create G7 Population Series\n",
    "# g7_data = {\n",
    "#     \"Canada\": 38.25,\n",
    "#     \"France\": 67.75,\n",
    "#     \"Germany\": 83.2,\n",
    "#     \"Italy\": 59.11,\n",
    "#     \"Japan\": 125.70,\n",
    "#     \"United Kingdom\": 67.33,\n",
    "#     \"United States\": 331.90\n",
    "# }\n",
    "\n",
    "# palette = np.round(np.linspace(0, 1, num=10), 1)\n",
    "# colors = mpl.colormaps[\"Accent\"].colors\n",
    "\n",
    "# # Pie Chart Plot\n",
    "# plt.figure(figsize=(10, 7))\n",
    "# plt.title(\"\\nG7 Population Distribution\\n\", fontsize=20)\n",
    "# plt.pie(g7_data.values(), labels=g7_data.keys(), autopct=\"%1.0f%%\", textprops={'fontsize': 14})\n",
    "# plt.axis(\"equal\")\n",
    "# plt.show()\n"
   ]
  },
  {
   "cell_type": "markdown",
   "id": "ccd42e16",
   "metadata": {},
   "source": [
    "## Exercise 5: Population of Lithuania"
   ]
  },
  {
   "cell_type": "markdown",
   "id": "fb3a07f9",
   "metadata": {},
   "source": [
    "a) Create a Pandas series containing Lithuania population data from the year 2010 till the year 2020\n",
    "\n",
    "b) Create a line chart showing the Lithuanian population dynamics."
   ]
  },
  {
   "cell_type": "markdown",
   "id": "4058ba81",
   "metadata": {},
   "source": [
    "## Solution to Exercise 5:"
   ]
  },
  {
   "cell_type": "markdown",
   "id": "927ce1ae",
   "metadata": {},
   "source": [
    "## a)"
   ]
  },
  {
   "cell_type": "code",
   "execution_count": 35,
   "id": "4a644b58",
   "metadata": {},
   "outputs": [
    {
     "name": "stdout",
     "output_type": "stream",
     "text": [
      "Lithuanian population (mln.):\n",
      "\n",
      "2010    3.139019\n",
      "2011    3.099798\n",
      "2012    3.063341\n",
      "2013    3.028189\n",
      "2014    2.994927\n",
      "2015    2.963765\n",
      "2016    2.933673\n",
      "2017    2.904450\n",
      "2018    2.876128\n",
      "2019    2.849083\n",
      "2020    2.820267\n",
      "2021    2.786651\n",
      "2022    2.750055\n",
      "2023    2.718352\n",
      "Name: Lithuanian population, dtype: float64\n"
     ]
    },
    {
     "data": {
      "image/png": "[encoded data removed]",
      "text/plain": [
       "<Figure size 1500x700 with 1 Axes>"
      ]
     },
     "metadata": {},
     "output_type": "display_data"
    }
   ],
   "source": [
    "import pandas as pd\n",
    "import numpy as np\n",
    "import matplotlib as mpl\n",
    "import matplotlib.pyplot as plt\n",
    "\n",
    "# Creating G7 Population Series\n",
    "eurostat_data = {\n",
    "\"2023\": 2.718352,\n",
    "\"2022\": 2.750055,\n",
    "\"2021\": 2.786651,\n",
    "\"2020\": 2.820267,\n",
    "\"2019\": 2.849083,\n",
    "\"2018\": 2.876128,\n",
    "\"2017\": 2.904450,\n",
    "\"2016\": 2.933673,\n",
    "\"2015\": 2.963765,\n",
    "\"2014\": 2.994927,\n",
    "\"2013\": 3.028189,\n",
    "\"2012\": 3.063341,\n",
    "\"2011\": 3.099798,\n",
    "\"2010\": 3.1390190\n",
    "}\n",
    "\n",
    "Lithuania_population = pd.Series(eurostat_data, name=\"Lithuanian population\")\n",
    "Lithuania_population = Lithuania_population[::-1]\n",
    "print(\"Lithuanian population (mln.):\\n\")\n",
    "print(Lithuania_population)\n",
    "\n",
    "\n",
    "# palette = np.round(np.linspace(0, 1, num=10), 1)\n",
    "colors = mpl.colormaps[\"Accent\"].colors\n",
    "\n",
    "# # Make the plot\n",
    "plt.figure(figsize=(15, 7))\n",
    "p = plt.bar(Lithuania_population.index, Lithuania_population.values, color=colors)\n",
    "\n",
    "# Adding plot title\n",
    "plt.title(\"\\nLithuania population, mln.\\n\", fontsize=18)\n",
    "\n",
    "# Setting y-axis label\n",
    "plt.ylabel(\"Population, mln.\\n\", fontsize=14)\n",
    "\n",
    "# # Adjust x-axis ticks\n",
    "plt.xticks(fontsize=14, rotation=30)\n",
    "\n",
    "# Adding bar labels\n",
    "# for k, v in g7_data.items():\n",
    "#     p = plt.bar(k, v, label=k)\n",
    "plt.bar_label(p, label_type=\"edge\", padding=5)\n",
    "\n",
    "# Display plot\n",
    "plt.show()"
   ]
  },
  {
   "cell_type": "markdown",
   "id": "4224de31",
   "metadata": {},
   "source": [
    "## b)"
   ]
  },
  {
   "cell_type": "code",
   "execution_count": 36,
   "id": "2037dac1",
   "metadata": {},
   "outputs": [
    {
     "data": {
      "image/png": "[encoded data removed]",
      "text/plain": [
       "<Figure size 1000x500 with 1 Axes>"
      ]
     },
     "metadata": {},
     "output_type": "display_data"
    }
   ],
   "source": [
    "# Plot\n",
    "plt.figure(figsize=(10, 5))\n",
    "plt.plot(Lithuania_population)\n",
    "\n",
    "# # Add horizontal X-axis\n",
    "plt.axhline(y=0, linewidth=1, label= 'y=0', color=\"green\")\n",
    "\n",
    "# # Add plot title\n",
    "plt.title(\"\\nLithuania population trendline, mln \\n\", fontsize=18)\n",
    "\n",
    "# # Update ticks fontsize\n",
    "plt.xticks(fontsize=10)\n",
    "plt.yticks(fontsize=10)\n",
    "\n",
    "# Set y-axis label\n",
    "plt.ylabel(\"Population, mln.\\n\", fontsize=14)\n",
    "\n",
    "# # Display plot\n",
    "plt.show()"
   ]
  },
  {
   "cell_type": "markdown",
   "id": "50add62b",
   "metadata": {},
   "source": [
    "## Exercise 6: Baltic States Population\n",
    "\n",
    "a) Create a series containing the most recent population data of Estonia, Latvia, and Lithuania\n",
    "\n",
    "b) Create a bar chart showing the population of the three Baltic States.\n",
    "\n",
    "c) Display population size over each country.\n",
    "\n",
    "d) Create a pie chart showing population distribution in the Baltic States."
   ]
  },
  {
   "cell_type": "markdown",
   "id": "128f4642",
   "metadata": {},
   "source": [
    "## Solution to Exercise 6:"
   ]
  },
  {
   "cell_type": "markdown",
   "id": "0b2a796a",
   "metadata": {},
   "source": [
    "## a)"
   ]
  },
  {
   "cell_type": "code",
   "execution_count": 37,
   "id": "fb501a45",
   "metadata": {},
   "outputs": [
    {
     "data": {
      "text/plain": [
       "Estonia      1.329\n",
       "Latvia       1.832\n",
       "Lithuania    2.625\n",
       "Name: Baltic States population 2023, dtype: float64"
      ]
     },
     "metadata": {},
     "output_type": "display_data"
    }
   ],
   "source": [
    "# Creating Baltic States Population Series\n",
    "baltic_population = {\"Estonia\": 1.329,\"Latvia\": 1.832,\"Lithuania\": 2.625}\n",
    "baltic_population = pd.Series(baltic_population, name=\"Baltic States population 2023\")\n",
    "display(baltic_population)"
   ]
  },
  {
   "cell_type": "markdown",
   "id": "dca7a387",
   "metadata": {},
   "source": [
    "## b, c)"
   ]
  },
  {
   "cell_type": "code",
   "execution_count": 39,
   "id": "220d747e",
   "metadata": {},
   "outputs": [
    {
     "data": {
      "text/plain": [
       "[Text(0, 5, '1.329'), Text(0, 5, '1.832'), Text(0, 5, '2.625')]"
      ]
     },
     "execution_count": 39,
     "metadata": {},
     "output_type": "execute_result"
    },
    {
     "data": {
      "image/png": "[encoded data removed]",
      "text/plain": [
       "<Figure size 1500x700 with 1 Axes>"
      ]
     },
     "metadata": {},
     "output_type": "display_data"
    }
   ],
   "source": [
    "# palette = np.round(np.linspace(0, 1, num=10), 1)\n",
    "colors = mpl.colormaps[\"Accent\"].colors\n",
    "\n",
    "# # Make the plot\n",
    "plt.figure(figsize=(15, 7))\n",
    "p = plt.bar(baltic_population.index, baltic_population.values, color=colors)\n",
    "\n",
    "# Adding plot title\n",
    "plt.title(\"\\nBaltic States population 2023, mln.\\n\", fontsize=18)\n",
    "\n",
    "# Setting y-axis label\n",
    "plt.ylabel(\"Population, mln.\\n\", fontsize=14)\n",
    "\n",
    "# # Adjust x,y-axis ticks\n",
    "plt.xticks(fontsize=14, rotation=0)\n",
    "plt.yticks(fontsize=14, rotation=0)\n",
    "\n",
    "# Adding bar labels\n",
    "# for k, v in g7_data.items():\n",
    "#     p = plt.bar(k, v, label=k)\n",
    "plt.bar_label(p, label_type=\"edge\", fontsize=14, padding=5)\n"
   ]
  },
  {
   "cell_type": "markdown",
   "id": "ccdb6db8",
   "metadata": {},
   "source": [
    "## d)"
   ]
  },
  {
   "cell_type": "code",
   "execution_count": 41,
   "id": "73b7871a",
   "metadata": {},
   "outputs": [
    {
     "data": {
      "image/png": "[encoded data removed]",
      "text/plain": [
       "<Figure size 1000x700 with 1 Axes>"
      ]
     },
     "metadata": {},
     "output_type": "display_data"
    }
   ],
   "source": [
    "# Creating Baltic States Population Series\n",
    "baltic_population = {\"Estonia\": 1.329,\"Latvia\": 1.832,\"Lithuania\": 2.625}\n",
    "baltic_population = pd.Series(baltic_population, name=\"Baltic States population 2023\")\n",
    "palette = np.round(np.linspace(0, 1, num=10), 1)\n",
    "colors = mpl.colormaps[\"Accent\"].colors\n",
    "\n",
    "# Pie Chart Plot\n",
    "plt.figure(figsize=(10, 7))\n",
    "plt.title(\"\\nBaltic States population 2023 distribution\\n\", fontsize=20)\n",
    "plt.pie(baltic_population.values, labels=baltic_population.index, autopct=\"%1.0f%%\", textprops={'fontsize': 14})\n",
    "plt.axis(\"equal\")\n",
    "plt.show()"
   ]
  },
  {
   "cell_type": "code",
   "execution_count": null,
   "id": "444af367",
   "metadata": {},
   "outputs": [],
   "source": []
  },
  {
   "cell_type": "code",
   "execution_count": null,
   "id": "e8bd970d",
   "metadata": {},
   "outputs": [],
   "source": []
  }
 ],
 "metadata": {
  "kernelspec": {
   "display_name": "Python 3 (ipykernel)",
   "language": "python",
   "name": "python3"
  },
  "language_info": {
   "codemirror_mode": {
    "name": "ipython",
    "version": 3
   },
   "file_extension": ".py",
   "mimetype": "text/x-python",
   "name": "python",
   "nbconvert_exporter": "python",
   "pygments_lexer": "ipython3",
   "version": "3.8.9"
  }
 },
 "nbformat": 4,
 "nbformat_minor": 5
}
